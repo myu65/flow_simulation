{
 "cells": [
  {
   "cell_type": "markdown",
   "metadata": {},
   "source": [
    "# Juliaで数値計算 浸透流にトライ （つくりかけ）\n",
    "\n",
    "## 対象読者\n",
    "1. Juliaで数値計算に興味がある人\n",
    "2. 浸透流の計算に興味がある人\n",
    "3. 自分。\n",
    "\n",
    "浸透流、やってみたいけど全くわからん。\n",
    "\n",
    "これが比較的わかりやすいので参考にした。\n",
    "https://inis.iaea.org/collection/NCLCollectionStore/_Public/31/027/31027904.pdf\n",
    "\n",
    "一番わからん貯留係数はやっぱり複雑だった。  \n",
    "https://www.jstage.jst.go.jp/article/jjseg1960/39/5/39_5_475/_pdf\n",
    "\n"
   ]
  },
  {
   "cell_type": "markdown",
   "metadata": {},
   "source": [
    "## 基礎方程式 （リチャーズの式）\n",
    "yが鉛直重力反対方向（上向き）で２次元の多孔質中の流れを考える。最終的に計算したいイメージは乾いた珪藻土マットの上にスポンジがおいてあって、スポンジの中央上から水を流し込む状態。最初は乾いた状態に水が来るので、連続の式はゼロにならないわ、2種類の材料があるので透水係数が均質じゃないわで、ラプラス方程式を解くだけの拡散方程式に帰着できないのがむずかしいところ。\n",
    "\n",
    "### 連続の式（みたいなやつ）\n",
    "いきなりここで引っかかるが、単位セルあたりの水の体積Q（この業界では$\\theta$が普通）を考えてみると理解できた。つまり、単位時間あたりのセルの水の量の変化$\\frac{\\partial Q}{\\partial t}$が単位流速のセルに流出入する流量と等しいので（１）になる（[広義の連続の式の導出](https://ja.wikipedia.org/wiki/連続の方程式)とおなじ）が、たぶんこのままだと使いにくいので、$S_s = \\frac{\\partial Q}{\\partial h}$なる比貯留係数なるものを使って書き直してる（２）式。結局、貯留係数はに単位水頭の減少がおきたときにに単位セルから排出される流体の体積ってことらしい。うーん、わからん。まず[水頭の概念](https://ja.wikipedia.org/wiki/水頭)が非常にわかりにくい…。\n",
    "\n",
    "$$\n",
    "\\frac{\\partial Q}{\\partial t} = -\\frac{\\partial u_x}{\\partial x} -\\frac{\\partial u_y}{\\partial y} \\tag{1}\n",
    "$$\n",
    "$$\n",
    "S_s \\frac{\\partial h}{\\partial t} = -\\frac{\\partial u_x}{\\partial x} -\\frac{\\partial u_y}{\\partial y} \\tag{2}\n",
    "$$\n",
    "$$\n",
    "t:時間 (s)，h:圧力水頭 (cm)，u_x u_y，:x， y方向のダルシ一流速 (cm/s), S_s :比貯留係数\n",
    "$$\n",
    "圧力水頭はよくわかってないんだけども、水の圧力を考える場合には、高さに直すのが非常にわかりやすいので地質学（？）の分野ではよく導入されている概念。1cm水が静止状態で積みあがってたらその下には1gfの力がかかっててこれが水圧になるのでこれが高さ水頭（ｃｍ）の考え（のはず）。で、それと同じ圧力の圧力（ｃｍ）が圧力水頭ということのはず（間違ってたらコメントください）  \n",
    "\n",
    "ダルシー流速はみかけの流速。つまり、単位セルの境界上での見かけの速さ。何を言っているかというと多孔質層の内部では固体でない部分をくねくね流体がながれているため、実際の速度と、セル全体としてみた見かけの流速と真の流速は違うって話。ここでは真の流速には用はないので気にせず流速といったらみかけの流速で。\n",
    "\n",
    "なお、通常は連続の式は左辺が0になっている形式を使うけど、今回は最初にかいてあるように、湧き出しがあるに等しい状態なのでゼロにならない。\n",
    "\n",
    "### ダルシー則\n",
    "多孔質層中を流れる流体の圧力損失は透水係数に比例するという経験式。最近はちゃんとナビエストークスの式とかと関連付けて確認されているらしい。レイノルズ数が十分に低ければだいたい成り立つらしい（スポンジの多孔質が十分細かくないとなりたたないってことかな？）\n",
    "\n",
    "x方向とz方向とそれぞれ考える。透水係数は本当はx方向とy方向で違ったりするらしいので一応わけておく。\n",
    "$$\n",
    "u_x = -k_x \\frac{\\partial h}{\\partial x} \\tag{3}\n",
    "$$\n",
    "$$\n",
    "u_y = -k_y \\left( \\frac{\\partial h}{\\partial y} + 1 \\right) \\tag{4}\n",
    "$$\n",
    "\n",
    "（４）式にはまったので一応補足。流体のすべてのエネルギー（全水頭）は圧力エネルギー（圧力水頭）、運動エネルギー（速度水頭）、位置エネルギー（位置水頭＝高さ水頭）のうち、ダルシー則が成り立つ程度の遅い流速では速度水頭は無視できるほど小さい。で、yは鉛直方向なので位置エネルギーが考慮される。  更に今は水頭表記（cm単位）なので、水の高さyに流体の密度をかけて、水の密度で割ったものがそのまま位置水頭になる。（つまり、流体の質量に重力加速度と高さかけたものが位置エネルギーだけど、それを基準にした単位なので高さだけでOK)  今は流体を水なので密度も無視して高さだけでいい。\n",
    "\n",
    "$$\n",
    "\\phi = h + y \\tag{5}\n",
    "$$\n",
    "$$\n",
    "\\frac{\\partial \\phi}{\\partial y} = \\frac{\\partial (h+y)}{\\partial y} = \\frac{\\partial h}{\\partial y} + \\frac{\\partial y}{\\partial y} = \\frac{\\partial h}{\\partial y} + 1 \\tag{6}\n",
    "$$\n",
    "ってことで、全水頭$\\phi$を考えてyで微分すると1がわいてきたので、こいつが重力を表しているっぽい。（変形あってるよね？　[wikipedia:リチャーズの式](https://ja.wikipedia.org/wiki/リチャーズ式)\n",
    "\n"
   ]
  },
  {
   "cell_type": "markdown",
   "metadata": {},
   "source": [
    "### 離散化\n",
    "格子の絵をスマートに書く方法がわからない…。[こちらの記事](https://qiita.com/KQTS/items/9d2a92ef4046d80ef4a5)のコロケート格子でセルの中心の圧力を考えます。\n",
    "1回微分がおるので、差分とるのに1/2なる概念（iとi+1の平均）がでてきて格子の辺を1/2とみてるはずで、これはコロケート格子なはず…。\n",
    "\n",
    "まずは(2)式の差分をとる。左辺は時間差分を前進でとって右辺は場所の差分を中央差分でとる（であってる？）。\n",
    "$$\n",
    "S_s \\frac{h^{n+1}_{i,j}-h^{n}_{i,j}}{\\Delta t} = - \\frac{u_{x_{i+1/2,j}}^{n+1} - u_{x_{i-1/2,j}}^{n+1}}{\\Delta x} - \\frac{u_{y_{i,j+1/2}}^{n+1} - u_{y_{i,j-1/2}}^{n+1}}{\\Delta y} \\tag{7} \\\\\n",
    "\\Delta t : 差分時間間隔, \\Delta x, \\Delta y :x,yそれぞれの差分格子間隔（セル間の間隔）,n: 時間ステップ, i, j: x, yそれぞれの格子（セル）点\n",
    "$$\n",
    "\n",
    "これを(3),(4)に代入して$h^{n+1}$で整理すると次の式になるらしい（めんどくさいので自分で検算していない←  \n",
    "a～dにまとめるのみやすくていいなー\n",
    "\n",
    "$$\n",
    "h^{n+1}_{i,j} = \\frac{b^{n+1}\\Delta t +c^{n+1}\\Delta t + d^{n+1/2}\\Delta t + S_s h^n_{i,j}}{a^{n+1}\\Delta t +S_s} \\tag{8}\n",
    "$$\n",
    "$$\n",
    "a^{n+1} = \\frac{k_{x,i-1/2,j}+k_{x,i+1/2,j}}{\\Delta x^2} + \\frac{k_{y,i,j-1/2}+k_{y,i,j+1/2}}{\\Delta y^2} \\\\\n",
    "b^{n+1} = \\frac{k_{x_{i-1/2,j}}h^{n+1}_{i-1,j}+k_{x_{i+1/2,j}}h^{n+1}_{i+1,j}}{\\Delta x^2}\\\\\n",
    "c^{n+1} = \\frac{k_{y_{i,j-1/2}}h^{n+1}_{i,j-1}+k_{y_{i,j+1/2}}h^{n+1}_{i,j+1}}{\\Delta y^2}\\\\\n",
    "d^{n+1/2} = \\frac{k_{y_{i,j+1/2}}-k_{y_{i,j-1/2}}}{\\Delta y} \\tag{9}\n",
    "$$\n",
    "\n",
    "元の時間差分が完全陰解法になってるっぽいですね。ホントは[ここ](https://qiita.com/KQTS/items/0c4f6c47a4d56881a178)でいうλが0.75くらいがいいらしい。どこでみたかたどれない…。\n",
    "\n",
    "で、緩和係数$\\omega$を使った[SOR法(これがわかりやすかった)](https://qiita.com/sci_Haru/items/b98791f232b93690a6c3#%E8%A3%9C%E9%81%BA2-%E6%95%B0%E5%80%A4%E8%A7%A3%E6%B3%95-sor%E6%B3%95--%E3%83%A4%E3%82%B3%E3%83%93%E6%B3%95%E3%81%AE%E8%8B%A5%E5%B9%B2%E3%81%AE%E6%94%B9%E5%96%84-)でとくことになってる。\n",
    "$$\n",
    "h^{n+1,m+1}_{i,j} = h^{n+1,m}_{i,j} + \\omega \\left( h'^{n+1,m+1}_{i,j} - h^{n+1,m}_{i,j} \\right) \\tag{9}\n",
    "$$\n",
    "\n",
    "で、差が適当な閾値如何になったら終わり、と。$u_x,u_y$は(2),(3)の差分式で求める。"
   ]
  },
  {
   "cell_type": "markdown",
   "metadata": {},
   "source": [
    "実際問題、$S_s$は定数ではないっぽいけども、~~定数としておいてやらないと解けるものも解けないの定数として（最初しなくて詰んだ）解いてみる。(やっぱないと無理かも？）~~\n",
    "結局、不飽和（水がかけてる領域）を扱う以上、何かしら圧力と含水率の関係が定式化してないととけなくて、微分したらでてきちゃうので、それをつかう。今回は、Wikipediaにのってた式でいってみる。上の離散化の式もこれだとおかしいね。$S_{s_{i,j}}^{n+1}$で読み替えて許して…。"
   ]
  },
  {
   "cell_type": "markdown",
   "metadata": {},
   "source": [
    "Wikipedia:[水分保持曲線](https://ja.wikipedia.org/wiki/水分保持曲線)より\n",
    "<img src=\"https://wikimedia.org/api/rest_v1/media/math/render/svg/215d9c2dda9d084a016a5a86296300f917923472\">\n",
    "を使用。まったくよくわからないし、いろいろあるらしい。"
   ]
  },
  {
   "cell_type": "code",
   "execution_count": 108,
   "metadata": {},
   "outputs": [],
   "source": [
    "dx = 0.1 # Δx(cm)\n",
    "dy = 0.1 # Δy(cm)\n",
    "LLx = 10 #領域の大きさx方向(cm)\n",
    "LLy = 10 #領域の大きさy方向(cm)\n",
    "\n",
    "Lx = round(Int, LLx / dx) #セル数\n",
    "Ly = round(Int, LLy /dy)　#セル数\n",
    "\n",
    "Qmax = 0.5 #普通はθs\n",
    "Qmin = 0.0 #普通はθr\n",
    "\n",
    "#初期化\n",
    "h = ones(Lx, Ly) * 10.0 #水がないほうが圧力が高いっぽい式になってたので、適当な高めの値を初期値にいれた。よくわからない。\n",
    "Q = zeros(Lx, Ly)\n",
    "ux = zeros(Lx+1, Ly) #uはセルとセルの辺上にある。(1,j)が(-1/2,j)\n",
    "uy = zeros(Lx, Ly+1) #uはセルとセルの辺上にある。(i,1)が(i,-1/2)\n",
    "\n",
    "k = ones(Lx+1,Ly+1)*0.01 #kもセルとセルの辺上にある。\n",
    "\n",
    "for j in 51:Ly+1\n",
    "    k[:,j] = k[:,j]*10 #上の方にあるスポンジ層は下の方にある層の透水係数に対して10倍\n",
    "end\n",
    "    \n",
    "for i in 40:61\n",
    "    Q[i,end] = Qmax #xの中心らへんでyが一番高い部分に水を配置\n",
    "    h[i,end] = 0 #一番上の水がある部分は、圧力変えた方がいい気がするけど、よくわらかない。\n",
    "end\n",
    "\n"
   ]
  },
  {
   "cell_type": "markdown",
   "metadata": {},
   "source": [
    "Sympyで出した$S_s$の式\n",
    "$$\n",
    "\\displaystyle S_s = - \\frac{\\left(\\alpha h\\right)^{n} \\left(Qmax - Qmin\\right) \\left(n - 1\\right) \\left(\\left(\\alpha h\\right)^{n} + 1\\right)^{- \\frac{2 n - 1}{n}}}{h}\n",
    "$$"
   ]
  },
  {
   "cell_type": "code",
   "execution_count": 109,
   "metadata": {},
   "outputs": [
    {
     "data": {
      "text/plain": [
       "h_to_Q (generic function with 1 method)"
      ]
     },
     "execution_count": 109,
     "metadata": {},
     "output_type": "execute_result"
    }
   ],
   "source": [
    "function h_to_Q(h::Float64, Qmax::Float64, Qmin::Float64)\n",
    "    alpha = 1.1　#適当。これも材質で違うんだろうなぁ。\n",
    "    n = 3　#適当。これも材質で違うんだろうなぁ。\n",
    "    Q = Qmin + (Qmax-Qmin)/(1+(alpha*h)^n)^(1-1/n)\n",
    "    return Q\n",
    "end\n",
    "\n"
   ]
  },
  {
   "cell_type": "code",
   "execution_count": 110,
   "metadata": {},
   "outputs": [
    {
     "data": {
      "text/plain": [
       "h_to_Ss (generic function with 2 methods)"
      ]
     },
     "execution_count": 110,
     "metadata": {},
     "output_type": "execute_result"
    }
   ],
   "source": [
    "function h_to_Ss(h::Float64, Qmax::Float64, Qmin::Float64)\n",
    "    alpha = 1.1　#適当。これも材質で違うんだろうなぁ。\n",
    "    n = 3　#適当。これも材質で違うんだろうなぁ。\n",
    "    Q = h_to_Q(h,Qmax,Qmin)\n",
    "    if Q == Qmax\n",
    "        S_s = 0 #例外処理。水がセルからあふれてたら微分値はゼロとする。\n",
    "    else\n",
    "        S_s = -(((alpha*h)^n)*(Qmax-Qmin)*(n-1)*((alpha*h)^n+1)^(-(2*n-1)/n))/h\n",
    "    end\n",
    "    \n",
    "    return S_s\n",
    "end"
   ]
  },
  {
   "cell_type": "code",
   "execution_count": 111,
   "metadata": {},
   "outputs": [],
   "source": [
    "S_s = zeros(Lx,Ly)\n",
    "\n",
    "for i in 1:Lx\n",
    "    for j in 1:Ly\n",
    "        S_s[i,j]=h_to_Ss(h[i,j],Qmax,Qmin)\n",
    "    end\n",
    "end"
   ]
  },
  {
   "cell_type": "code",
   "execution_count": 112,
   "metadata": {},
   "outputs": [
    {
     "data": {
      "text/plain": [
       "ux_calc (generic function with 1 method)"
      ]
     },
     "execution_count": 112,
     "metadata": {},
     "output_type": "execute_result"
    }
   ],
   "source": [
    "function ux_calc(h_i, h_i_hiku_1,k,dx)\n",
    "    #uxは辺上でu[2,j]は実際は1+1/2でh[1,j]とh[2,j]の中間点。\n",
    "    #なので-k(h[2,j]-h[1,j])/dxとなる。　kが辺上に点あり。\n",
    "    ux = -k * (h_i - h_hiku_1)/dx\n",
    "end"
   ]
  },
  {
   "cell_type": "code",
   "execution_count": 113,
   "metadata": {},
   "outputs": [
    {
     "data": {
      "text/plain": [
       "uy_calc (generic function with 1 method)"
      ]
     },
     "execution_count": 113,
     "metadata": {},
     "output_type": "execute_result"
    }
   ],
   "source": [
    "function uy_calc(h_i, h_i_hiku_1,k,dy)\n",
    "    #uyは辺上でu[i,2]は実際は1+1/2でh[i,2]とh[i,1]の中間点。\n",
    "    #なので-k((h[i,2]-h[i,1])/dx+1)となる。　kが辺上に点あり。\n",
    "    ux = -k *((h_i - h_hiku_1)/dy + 1)\n",
    "end"
   ]
  },
  {
   "cell_type": "code",
   "execution_count": 114,
   "metadata": {},
   "outputs": [
    {
     "data": {
      "text/plain": [
       "1.5"
      ]
     },
     "execution_count": 114,
     "metadata": {},
     "output_type": "execute_result"
    }
   ],
   "source": [
    "epsilon = 10^-5\n",
    "TimeStep = 1\n",
    "dt = 0.01\n",
    "omega = 1.5"
   ]
  },
  {
   "cell_type": "markdown",
   "metadata": {},
   "source": [
    "$$\n",
    "h^{n+1}_{i,j} = \\frac{b^{n+1}\\Delta t +c^{n+1}\\Delta t + d^{n+1/2}\\Delta t + S_s h^n_{i,j}}{a^{n+1}\\Delta t +S_s} \\tag{8}\n",
    "$$\n",
    "$$\n",
    "a^{n+1} = \\frac{k_{x,i-1/2,j}+k_{x,i+1/2,j}}{\\Delta x^2} + \\frac{k_{y,i,j-1/2}+k_{y,i,j+1/2}}{\\Delta y^2} \\\\\n",
    "b^{n+1} = \\frac{k_{x_{i-1/2,j}}h^{n+1}_{i-1,j}+k_{x_{i+1/2,j}}h^{n+1}_{i+1,j}}{\\Delta x^2}\\\\\n",
    "c^{n+1} = \\frac{k_{y_{i,j-1/2}}h^{n+1}_{i,j-1}+k_{y_{i,j+1/2}}h^{n+1}_{i,j+1}}{\\Delta y^2}\\\\\n",
    "d^{n+1/2} = \\frac{k_{y_{i,j+1/2}}-k_{y_{i,j-1/2}}}{\\Delta y} \\tag{9}\n",
    "$$"
   ]
  },
  {
   "cell_type": "code",
   "execution_count": 115,
   "metadata": {},
   "outputs": [],
   "source": [
    "using LinearAlgebra"
   ]
  },
  {
   "cell_type": "code",
   "execution_count": 116,
   "metadata": {},
   "outputs": [
    {
     "name": "stdout",
     "output_type": "stream",
     "text": [
      "n_iter0delta=27.087625125648394\n"
     ]
    },
    {
     "ename": "LoadError",
     "evalue": "DomainError with -5.566687413578056:\nExponentiation yielding a complex result requires a complex argument.\nReplace x^y with (x+0im)^y, Complex(x)^y, or similar.",
     "output_type": "error",
     "traceback": [
      "DomainError with -5.566687413578056:\nExponentiation yielding a complex result requires a complex argument.\nReplace x^y with (x+0im)^y, Complex(x)^y, or similar.",
      "",
      "Stacktrace:",
      " [1] throw_exp_domainerror(::Float64) at .\\math.jl:37",
      " [2] ^ at .\\math.jl:888 [inlined]",
      " [3] h_to_Q at .\\In[109]:4 [inlined]",
      " [4] h_to_Ss(::Float64, ::Float64, ::Float64) at .\\In[110]:4",
      " [5] top-level scope at .\\In[116]:36",
      " [6] include_string(::Function, ::Module, ::String, ::String) at .\\loading.jl:1091",
      " [7] execute_code(::String, ::String) at D:\\Users\\myu65\\.julia\\packages\\IJulia\\rWZ9e\\src\\execute_request.jl:27",
      " [8] execute_request(::ZMQ.Socket, ::IJulia.Msg) at D:\\Users\\myu65\\.julia\\packages\\IJulia\\rWZ9e\\src\\execute_request.jl:86",
      " [9] #invokelatest#1 at .\\essentials.jl:710 [inlined]",
      " [10] invokelatest at .\\essentials.jl:709 [inlined]",
      " [11] eventloop(::ZMQ.Socket) at D:\\Users\\myu65\\.julia\\packages\\IJulia\\rWZ9e\\src\\eventloop.jl:8",
      " [12] (::IJulia.var\"#15#18\")() at .\\task.jl:356"
     ]
    }
   ],
   "source": [
    "timesteps = 0\n",
    "\n",
    "while timesteps < TimeStep\n",
    "    delta = 1\n",
    "    n_iter = 0\n",
    "    S_s_m = copy(S_s)\n",
    "    h_n1_m = copy(h)\n",
    "    h_n1_m1 = copy(h)\n",
    "    \n",
    "    while delta > epsilon\n",
    "        \n",
    "        for i in 1:Lx\n",
    "            for j in 1:Ly\n",
    "                if i==1 #境界条件。i-1とかu+1はiと等しいとする。\n",
    "                    b = (k[i,j]*h_n1_m[i,j] + k[i+1,j]*h_n1_m[i+1,j])/dx^2\n",
    "                elseif i == Ly\n",
    "                    b = (k[i,j]*h_n1_m[i-1,j] + k[i+1,j]*h_n1_m[i,j])/dx^2\n",
    "                else\n",
    "                    b = (k[i,j]*h_n1_m[i-1,j] + k[i+1,j]*h_n1_m[i+1,j])/dx^2 \n",
    "                end\n",
    "                \n",
    "                if j ==1 \n",
    "                    c = (k[i,j]*h_n1_m[i,j] + k[i,j+1]*h_n1_m[i,j+1])/dy^2\n",
    "                elseif j==Ly\n",
    "                    c = (k[i,j]*h_n1_m[i,j-1] + k[i,j+1]*h_n1_m[i,j])/dy^2\n",
    "                else                        \n",
    "                    c = (k[i,j]*h_n1_m[i,j-1] + k[i,j+1]*h_n1_m[i,j+1])/dy^2\n",
    "                end\n",
    "                \n",
    "                a = (k[i,j] + k[i+1,j])/dx^2 + (k[i,j] + k[i,j+1])/dy^2 #kのi+1/2はi+1に相当。\n",
    "                d = (k[i,j+1] - k[i,j])/dy\n",
    "                \n",
    "                h_n1_m1[i,j] = (b*dt + c*dt + d*dt + S_s[i,j]*h[i,j]) / (a*dt + S_s[i,j])\n",
    "                \n",
    "                h_n1_m1[i,j] = h_n1_m[i,j] + omega*(h_n1_m1[i,j] - h_n1_m[i,j])\n",
    "                S_s_m[i,j]=h_to_Ss(h_n1_m1[i,j],Qmax,Qmin)\n",
    "            end\n",
    "        end\n",
    "        \n",
    "        delta = norm(h_n1_m1 .- h_n1_m)\n",
    "        \n",
    "        \n",
    "        if n_iter%10 == 0\n",
    "            println(\"n_iter\",n_iter,\"delta=\",delta)\n",
    "        end\n",
    "        \n",
    "        n_iter += 1\n",
    "        \n",
    "        if n_iter >200\n",
    "            return h_n1_m1\n",
    "        end\n",
    "        \n",
    "        h_n1_m = copy(h_n1_m1)\n",
    "        \n",
    "    end\n",
    "    \n",
    "    timesteps += 1\n",
    "end\n",
    "        \n",
    "    "
   ]
  },
  {
   "cell_type": "code",
   "execution_count": 107,
   "metadata": {},
   "outputs": [
    {
     "data": {
      "text/plain": [
       "100×100 Array{Float64,2}:\n",
       " 10.0  10.0  10.0  10.0  10.0  10.0  …  10.0  10.0  10.0  10.0  10.0  10.0\n",
       " 10.0  10.0  10.0  10.0  10.0  10.0     10.0  10.0  10.0  10.0  10.0  10.0\n",
       " 10.0  10.0  10.0  10.0  10.0  10.0     10.0  10.0  10.0  10.0  10.0  10.0\n",
       " 10.0  10.0  10.0  10.0  10.0  10.0     10.0  10.0  10.0  10.0  10.0  10.0\n",
       " 10.0  10.0  10.0  10.0  10.0  10.0     10.0  10.0  10.0  10.0  10.0  10.0\n",
       " 10.0  10.0  10.0  10.0  10.0  10.0  …  10.0  10.0  10.0  10.0  10.0  10.0\n",
       " 10.0  10.0  10.0  10.0  10.0  10.0     10.0  10.0  10.0  10.0  10.0  10.0\n",
       " 10.0  10.0  10.0  10.0  10.0  10.0     10.0  10.0  10.0  10.0  10.0  10.0\n",
       " 10.0  10.0  10.0  10.0  10.0  10.0     10.0  10.0  10.0  10.0  10.0  10.0\n",
       " 10.0  10.0  10.0  10.0  10.0  10.0     10.0  10.0  10.0  10.0  10.0  10.0\n",
       " 10.0  10.0  10.0  10.0  10.0  10.0  …  10.0  10.0  10.0  10.0  10.0  10.0\n",
       " 10.0  10.0  10.0  10.0  10.0  10.0     10.0  10.0  10.0  10.0  10.0  10.0\n",
       " 10.0  10.0  10.0  10.0  10.0  10.0     10.0  10.0  10.0  10.0  10.0  10.0\n",
       "  ⋮                             ⋮    ⋱         ⋮                      \n",
       " 10.0  10.0  10.0  10.0  10.0  10.0     10.0  10.0  10.0  10.0  10.0  10.0\n",
       " 10.0  10.0  10.0  10.0  10.0  10.0     10.0  10.0  10.0  10.0  10.0  10.0\n",
       " 10.0  10.0  10.0  10.0  10.0  10.0  …  10.0  10.0  10.0  10.0  10.0  10.0\n",
       " 10.0  10.0  10.0  10.0  10.0  10.0     10.0  10.0  10.0  10.0  10.0  10.0\n",
       " 10.0  10.0  10.0  10.0  10.0  10.0     10.0  10.0  10.0  10.0  10.0  10.0\n",
       " 10.0  10.0  10.0  10.0  10.0  10.0     10.0  10.0  10.0  10.0  10.0  10.0\n",
       " 10.0  10.0  10.0  10.0  10.0  10.0     10.0  10.0  10.0  10.0  10.0  10.0\n",
       " 10.0  10.0  10.0  10.0  10.0  10.0  …  10.0  10.0  10.0  10.0  10.0  10.0\n",
       " 10.0  10.0  10.0  10.0  10.0  10.0     10.0  10.0  10.0  10.0  10.0  10.0\n",
       " 10.0  10.0  10.0  10.0  10.0  10.0     10.0  10.0  10.0  10.0  10.0  10.0\n",
       " 10.0  10.0  10.0  10.0  10.0  10.0     10.0  10.0  10.0  10.0  10.0  10.0\n",
       " 10.0  10.0  10.0  10.0  10.0  10.0     10.0  10.0  10.0  10.0  10.0  10.0"
      ]
     },
     "execution_count": 107,
     "metadata": {},
     "output_type": "execute_result"
    }
   ],
   "source": [
    "h"
   ]
  },
  {
   "cell_type": "code",
   "execution_count": null,
   "metadata": {},
   "outputs": [],
   "source": []
  },
  {
   "cell_type": "code",
   "execution_count": null,
   "metadata": {},
   "outputs": [],
   "source": []
  },
  {
   "cell_type": "code",
   "execution_count": null,
   "metadata": {},
   "outputs": [],
   "source": []
  },
  {
   "cell_type": "code",
   "execution_count": null,
   "metadata": {},
   "outputs": [],
   "source": []
  },
  {
   "cell_type": "code",
   "execution_count": null,
   "metadata": {},
   "outputs": [],
   "source": []
  },
  {
   "cell_type": "code",
   "execution_count": null,
   "metadata": {},
   "outputs": [],
   "source": []
  },
  {
   "cell_type": "code",
   "execution_count": null,
   "metadata": {},
   "outputs": [],
   "source": []
  },
  {
   "cell_type": "code",
   "execution_count": null,
   "metadata": {},
   "outputs": [],
   "source": []
  },
  {
   "cell_type": "code",
   "execution_count": 5,
   "metadata": {},
   "outputs": [
    {
     "name": "stderr",
     "output_type": "stream",
     "text": [
      "┌ Info: Precompiling NLsolve [2774e3e8-f4cf-5e23-947b-6d7e65073b56]\n",
      "└ @ Base loading.jl:1278\n"
     ]
    },
    {
     "data": {
      "text/plain": [
       "nls (generic function with 1 method)"
      ]
     },
     "execution_count": 5,
     "metadata": {},
     "output_type": "execute_result"
    }
   ],
   "source": [
    "#http://www.cas.cmc.osaka-u.ac.jp/~paoon/Lectures/2018-7Semester-AppliedMath9/04-nlsolve/\n",
    "using NLsolve\n",
    "function nls(func, params...; ini = [0.0])\n",
    "    if typeof(ini) <: Number\n",
    "        r = nlsolve((vout,vin)->vout[1]=func(vin[1],params...), [ini])\n",
    "        v = r.zero[1]\n",
    "    else\n",
    "        r = nlsolve((vout,vin)->vout .= func(vin,params...), ini)\n",
    "        v = r.zero\n",
    "    end\n",
    "    return v, r.f_converged\n",
    "end"
   ]
  },
  {
   "cell_type": "code",
   "execution_count": 45,
   "metadata": {},
   "outputs": [
    {
     "data": {
      "text/plain": [
       "Q_to_h (generic function with 1 method)"
      ]
     },
     "execution_count": 45,
     "metadata": {},
     "output_type": "execute_result"
    }
   ],
   "source": [
    "function Q_to_h(Q::Float64, Qmax::Float64, Qmin::Float64)\n",
    "    alpha = 1.1\n",
    "    n = 3\n",
    "    \n",
    "    h = nls(h_to_Q, Qmax,Qmin, ini=1.0)\n",
    "    return h[1]\n",
    "end"
   ]
  },
  {
   "cell_type": "code",
   "execution_count": 18,
   "metadata": {},
   "outputs": [
    {
     "data": {
      "text/plain": [
       "6565.672785111952"
      ]
     },
     "execution_count": 18,
     "metadata": {},
     "output_type": "execute_result"
    }
   ],
   "source": [
    "Q_to_h(0.0,Qmax,Qmin)"
   ]
  },
  {
   "cell_type": "code",
   "execution_count": 57,
   "metadata": {
    "collapsed": true,
    "jupyter": {
     "outputs_hidden": true
    }
   },
   "outputs": [
    {
     "name": "stdout",
     "output_type": "stream",
     "text": [
      "0\n",
      "-0.013280526297061819\n",
      "-0.05230840913778783\n",
      "-0.11294447479435378\n",
      "-0.18583423962007378\n",
      "-0.2574666961300097\n",
      "-0.3144638608261558\n",
      "-0.3484765734412118\n",
      "-0.35826850359744095\n",
      "-0.3481578401546089\n",
      "-0.32479370219497583\n",
      "-0.29450275141333504\n",
      "-0.2620340121993115\n",
      "-0.23039775687479383\n",
      "-0.20121493268451668\n",
      "-0.1751700625249827\n",
      "-0.1523886259074779\n",
      "-0.132698751297466\n",
      "-0.11579378996714404\n",
      "-0.10132519821941897\n",
      "-0.08895132948444186\n",
      "-0.07836023429922999\n",
      "-0.06927801135754082\n",
      "-0.06146962012828717\n",
      "-0.0547361029780965\n",
      "-0.048910377721935384\n",
      "-0.04385272574851609\n",
      "-0.039446519681895054\n",
      "-0.03559441890509746\n",
      "-0.032215096723727875\n",
      "-0.029240482357455824\n",
      "-0.02661346581425516\n",
      "-0.024286002343903913\n",
      "-0.022217553590419842\n",
      "-0.02037380827536814\n",
      "-0.018725632834724056\n",
      "-0.017248210192701022\n",
      "-0.015920332001101076\n",
      "-0.014723815904021451\n",
      "-0.013643024653431141\n",
      "-0.012664468265161051\n",
      "-0.011776473977384402\n",
      "-0.01096891167558255\n",
      "-0.010232964793964712\n",
      "-0.009560938594752657\n",
      "-0.008946099249867785\n",
      "-0.00838253837590364\n",
      "-0.007865058661281715\n",
      "-0.007389077021447893\n",
      "-0.006950542361865208\n",
      "-0.006545865549805673\n",
      "-0.006171859618821911\n",
      "-0.005825688573659865\n",
      "-0.005504823443704468\n",
      "-0.005207004462159257\n",
      "-0.004930208435895895\n",
      "-0.004672620525147496\n",
      "-0.004432609779273932\n",
      "-0.004208707879765428\n",
      "-0.003999590628551458\n",
      "-0.003804061791833591\n",
      "-0.003621038969721512\n",
      "-0.003449541212075182\n",
      "-0.0032886781428917438\n",
      "-0.0031376403907479923\n",
      "-0.0029956911523805895\n",
      "-0.0028621587414075834\n",
      "-0.0027364299952469767\n",
      "-0.0026179444311122775\n",
      "-0.0025061890570901536\n",
      "-0.0024006937571685546\n",
      "-0.0023010271800465525\n",
      "-0.002206793070920449\n",
      "-0.0021176269934540587\n",
      "-0.0020331933960131064\n",
      "-0.0019531829821485573\n",
      "-0.0018773103503973321\n",
      "-0.0018053118728537131\n",
      "-0.0017369437857539564\n",
      "-0.0016719804685968933\n",
      "-0.0016102128911681776\n",
      "-0.001551447210307166\n",
      "-0.0014955035004061395\n",
      "-0.0014422146035061344\n",
      "-0.0013914250864903409\n",
      "-0.0013429902943071974\n",
      "-0.0012967754894087594\n",
      "-0.0012526550686893581\n",
      "-0.001210511850175365\n",
      "-0.00117023642256652\n",
      "-0.0011317265514777805\n",
      "-0.001094886636891017\n",
      "-0.001059627216909217\n",
      "-0.0010258645134219074\n",
      "-0.0009935200157476045\n",
      "-0.000962520098724467\n",
      "-0.0009327956720803572\n",
      "-0.0009042818582335694\n",
      "-0.0008769176959604244\n",
      "-0.0008506458676198826\n",
      "-0.0008254124478519118\n"
     ]
    }
   ],
   "source": [
    "for i in 0.0:0.1:10.0\n",
    "    println(h_to_S_s(i,Qmax,Qmin))\n",
    "end"
   ]
  },
  {
   "cell_type": "code",
   "execution_count": 56,
   "metadata": {
    "collapsed": true,
    "jupyter": {
     "outputs_hidden": true
    }
   },
   "outputs": [
    {
     "name": "stdout",
     "output_type": "stream",
     "text": [
      "0.5\n",
      "0.4995568248521113\n",
      "0.4964818658742202\n",
      "0.4883686467361151\n",
      "0.47347939398917643\n",
      "0.4512437531159127\n",
      "0.4224799262858254\n",
      "0.3891255837593711\n",
      "0.35359836194648997\n",
      "0.3181377801424649\n",
      "0.2844080089468402\n",
      "0.25340803230339903\n",
      "0.225578057217145\n",
      "0.20097192801434255\n",
      "0.17941569703433824\n",
      "0.16062373814926464\n",
      "0.1442725862989006\n",
      "0.13004282024833808\n",
      "0.11763996471345495\n",
      "0.10680286090215102\n",
      "0.09730513578463362\n",
      "0.08895321243495419\n",
      "0.08158283680217382\n",
      "0.07505518936758504\n",
      "0.06925311908683357\n",
      "0.06407773940843337\n",
      "0.059445466691616614\n",
      "0.05528550075307294\n",
      "0.05153771030341773\n",
      "0.0481508723529139\n",
      "0.04508121282399807\n",
      "0.04229119931540133\n",
      "0.03974854286234126\n",
      "0.0374253719114428\n",
      "0.03529754775791887\n",
      "0.03334409603648043\n",
      "0.031546733424286134\n",
      "0.02988947253175556\n",
      "0.028358291104567397\n",
      "0.026940854233006895\n",
      "0.025626280356983472\n",
      "0.02440494355136679\n",
      "0.023268305949892494\n",
      "0.022208775278003322\n",
      "0.021219583366016512\n",
      "0.020294682244962028\n",
      "0.01942865502145318\n",
      "0.01861663921168926\n",
      "0.017854260609530832\n",
      "0.01713757608666894\n",
      "0.016463023987959794\n",
      "0.015827381003019086\n",
      "0.015227724575000006\n",
      "0.01466140005621209\n",
      "0.014125991943590982\n",
      "0.013619298629613188\n",
      "0.013139310189793406\n",
      "0.012684188799428547\n",
      "0.012252251432216574\n",
      "0.011841954543781211\n",
      "0.011451880485608395\n",
      "0.011080725430784085\n",
      "0.010727288623314334\n",
      "0.010390462788609322\n",
      "0.0100692255646694\n",
      "0.009762631832239443\n",
      "0.009469806838207803\n",
      "0.009189940020244225\n",
      "0.008922279452449482\n",
      "0.008666126841924793\n",
      "0.008420833014908233\n",
      "0.008185793838675732\n",
      "0.00796044653194083\n",
      "0.007744266322156955\n",
      "0.007536763413052729\n",
      "0.007337480230020266\n",
      "0.007145988914717439\n",
      "0.0069618890435136\n",
      "0.0067848055472689225\n",
      "0.006614386812445273\n",
      "0.006450302945748782\n",
      "0.006292244186440876\n",
      "0.006139919452160824\n",
      "0.005993055005607873\n",
      "0.0058513932307610326\n",
      "0.005714691508491265\n",
      "0.005582721182463609\n",
      "0.0054552666071520615\n",
      "0.005332124270612151\n",
      "0.005213101985387739\n",
      "0.005098018141580249\n",
      "0.00498670101669005\n",
      "0.004878988137358852\n",
      "0.004774725688606537\n",
      "0.0046737679665715915\n",
      "0.0045759768711369905\n",
      "0.004481221435158082\n",
      "0.004389377387309407\n",
      "0.004300326745837836\n",
      "0.004213957440752847\n",
      "0.004130162962204157\n"
     ]
    }
   ],
   "source": [
    "for i in 0.0:0.1:10.0\n",
    "    println(h_to_Q(i,Qmax,Qmin))\n",
    "end"
   ]
  },
  {
   "cell_type": "code",
   "execution_count": null,
   "metadata": {},
   "outputs": [],
   "source": []
  }
 ],
 "metadata": {
  "kernelspec": {
   "display_name": "Julia 1.5.2",
   "language": "julia",
   "name": "julia-1.5"
  },
  "language_info": {
   "file_extension": ".jl",
   "mimetype": "application/julia",
   "name": "julia",
   "version": "1.5.2"
  }
 },
 "nbformat": 4,
 "nbformat_minor": 4
}
